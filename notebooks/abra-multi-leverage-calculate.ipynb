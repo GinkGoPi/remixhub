{
 "cells": [
  {
   "cell_type": "markdown",
   "metadata": {},
   "source": [
    "Abracadabra v1 leverage Frontend calculate multi"
   ]
  },
  {
   "cell_type": "code",
   "execution_count": 1,
   "metadata": {},
   "outputs": [],
   "source": [
    "# {collateralAmount: BigNumber, amount: '30', updatePrice: false}\n",
    "tokenToUsd = 1.0195\n",
    "\n",
    "def multiplierHandle(mainValue, multiplier, slipage, amount):\n",
    "    print('data.amount', amount)\n",
    "    percentValue = amount / mainValue  #  current ltv\n",
    "    print('mainValue', mainValue)\n",
    "    print('percentValue', percentValue)\n",
    "    if not percentValue:\n",
    "        return False\n",
    "    \n",
    "    slipageMutiplier = (100 - slipage) / 100\n",
    "    print('slipageMutiplier', slipageMutiplier)\n",
    "    \n",
    "    amountMultiplyer = percentValue / 100\n",
    "    print('amountMultiplyer', amountMultiplyer)\n",
    "    \n",
    "    startAmount = amount * 0.995  #  except borrow fee\n",
    "    finalAmount = 0\n",
    "    \n",
    "    for i in range(multiplier):\n",
    "        finalAmount += startAmount\n",
    "        startAmount = startAmount * amountMultiplyer\n",
    "        print(f'==> {i}, startAmount: {startAmount} finalAmount: {finalAmount}')\n",
    "        \n",
    "    mimAmount = finalAmount\n",
    "    minValue = finalAmount * tokenToUsd * slipageMutiplier\n",
    "    print('minValue', minValue)\n",
    "    \n",
    "    "
   ]
  },
  {
   "cell_type": "code",
   "execution_count": 3,
   "metadata": {},
   "outputs": [
    {
     "name": "stdout",
     "output_type": "stream",
     "text": [
      "data.amount 30\n",
      "mainValue 50\n",
      "percentValue 59.6447\n",
      "slipageMutiplier 0.9997\n",
      "amountMultiplyer 0.596447\n",
      "==> 0, startAmount: 17.80394295 finalAmount: 29.85\n",
      "==> 1, startAmount: 10.619108360698648 finalAmount: 47.65394295\n",
      "==> 2, startAmount: 6.3337353244136265 finalAmount: 58.27305131069865\n",
      "==> 3, startAmount: 3.7777374330405338 finalAmount: 64.60678663511227\n",
      "minValue 65.84685898880463\n"
     ]
    }
   ],
   "source": [
    "mainValue = 50  # collateral input\n",
    "multiplier = 4  # leverage multi\n",
    "slipage = 0.03\n",
    "amount = 30  # borrow input\n",
    "\n",
    "multiplierHandle(mainValue, multiplier, slipage, amount)"
   ]
  },
  {
   "cell_type": "markdown",
   "metadata": {},
   "source": [
    "因此从abracadabra的leverage计算看，杠杆倍率还需集合用户的抵押率\n",
    "50/30  4x leverage后并不是 200/120 的关系\n",
    "应该为 50 + finalAmount \n",
    "而债务 minValue 的MIM 执行后\n"
   ]
  },
  {
   "cell_type": "code",
   "execution_count": null,
   "metadata": {},
   "outputs": [],
   "source": []
  }
 ],
 "metadata": {
  "kernelspec": {
   "display_name": "Python 3.9.13 ('base')",
   "language": "python",
   "name": "python3"
  },
  "language_info": {
   "codemirror_mode": {
    "name": "ipython",
    "version": 3
   },
   "file_extension": ".py",
   "mimetype": "text/x-python",
   "name": "python",
   "nbconvert_exporter": "python",
   "pygments_lexer": "ipython3",
   "version": "3.9.13"
  },
  "orig_nbformat": 4,
  "vscode": {
   "interpreter": {
    "hash": "c6e4e9f98eb68ad3b7c296f83d20e6de614cb42e90992a65aa266555a3137d0d"
   }
  }
 },
 "nbformat": 4,
 "nbformat_minor": 2
}
