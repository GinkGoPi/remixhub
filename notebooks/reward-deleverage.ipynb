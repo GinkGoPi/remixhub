{
 "cells": [
  {
   "cell_type": "markdown",
   "metadata": {},
   "source": [
    "## 测试验证收益分配算法 Part 2"
   ]
  },
  {
   "cell_type": "code",
   "execution_count": 63,
   "metadata": {},
   "outputs": [],
   "source": [
    "from typing import List, Tuple\n",
    "import pandas as pd\n"
   ]
  },
  {
   "cell_type": "code",
   "execution_count": 39,
   "metadata": {},
   "outputs": [],
   "source": [
    "class ERC20(object):\n",
    "    def __init__(self, name) -> None:\n",
    "        self.address = name\n",
    "        self._balance = {\n",
    "            'alice': 0,\n",
    "            'bob': 0,\n",
    "            'chris': 0,\n",
    "            'Trove': 0,\n",
    "            'ConvexBooster': 0,\n",
    "            'BaseRewardPool': 0,\n",
    "            'staker': 0\n",
    "        }\n",
    "        self.totalSupply = 0\n",
    "    \n",
    "    def balanceOf(self, _who):\n",
    "        return self._balance.get(_who, 0)\n",
    "\n",
    "    def mint(self, _to, _amount):\n",
    "        self.totalSupply += _amount\n",
    "        self._balance[_to] += _amount\n",
    "        \n",
    "    def burn(self, _from, _amount):\n",
    "        self.totalSupply -= _amount\n",
    "        self._balance[_from] -= _amount\n",
    "    \n",
    "    def transfer(self, msgSender, _to, _amount):\n",
    "        self._balance[msgSender] -= _amount\n",
    "        self._balance[_to] += _amount\n",
    "    \n",
    "    def transferFrom(self, _from, _to, _amount):\n",
    "        self._balance[_from] -= _amount\n",
    "        self._balance[_to] += _amount\n",
    "        "
   ]
  },
  {
   "cell_type": "code",
   "execution_count": 40,
   "metadata": {},
   "outputs": [],
   "source": [
    "mim3Crv = ERC20('MIM-3LP3CRV-f')\n",
    "cvxMim3Crv = ERC20('cvxMIM-3LP3CRV-f')\n",
    "\n",
    "crv = ERC20('CRV')\n",
    "cvx = ERC20('CVX')"
   ]
  },
  {
   "cell_type": "code",
   "execution_count": null,
   "metadata": {},
   "outputs": [],
   "source": []
  },
  {
   "cell_type": "code",
   "execution_count": 48,
   "metadata": {},
   "outputs": [],
   "source": [
    "class ConvexBooster(object):\n",
    "    def __init__(self) -> None:\n",
    "        self.address = 'ConvexBooster'\n",
    "        self.staker = 'staker'\n",
    "        self.poolInfo = {}\n",
    "        \n",
    "    def addBaseRewardPool(self, pid, token, lptoken, baseRewardPool):\n",
    "        self.poolInfo = {\n",
    "            pid: {\n",
    "                'token': token,\n",
    "                'lptoken': lptoken,\n",
    "                'gauge': 'MIM-3LP3CRV-f-gauge',\n",
    "                'crvRewards': baseRewardPool,\n",
    "                'stash': 'ExtraRewardStashV3',\n",
    "                'shutdown': False,\n",
    "            }\n",
    "        }\n",
    "    \n",
    "    def deposit(self, msgSender, _pid, _amount, _stake: bool):\n",
    "        pool = self.poolInfo[_pid]\n",
    "        # pool['lptoken'] transfer to staker(Voter)\n",
    "        pool['lptoken'].transferFrom(msgSender, 'staker', _amount)\n",
    "        # pool['gauge'] deposite lptoken\n",
    "        \n",
    "        \n",
    "        if _stake:\n",
    "            # mint for address(this)\n",
    "            pool['token'].mint(self.address, _amount)\n",
    "            # pool.crvRewards stakeFor\n",
    "            pool['crvRewards'].stakeFor(self.address, msgSender, _amount)\n",
    "            \n",
    "    def withdrawTo(self, msgSender, _pid, _amount, _to):\n",
    "        pool = self.poolInfo[_pid]\n",
    "        pool['token'].burn(self.address, _amount)\n",
    "        # pull from gauge if not shutdown\n",
    "        stakerWithdraw = 0\n",
    "        stashRewards = 0\n",
    "        # lptoken transfer to `_to` \n",
    "        pool['lptoken'].transfer(self.address, _to, _amount)\n",
    "        \n",
    "    \n",
    "class ConvexBaseRewardPool(object):\n",
    "    def __init__(self, stakingToken, operator, rewardToken) -> None:\n",
    "        self.address = 'BaseRewardPool'\n",
    "        self.extraRewards = []\n",
    "        self.totalSupply = 0\n",
    "        self.balances = {\n",
    "            'alice': 0,\n",
    "            'bob': 0,\n",
    "            'chris': 0,\n",
    "            'Trove': 0,\n",
    "            \"BaseRewardPool\": 0,\n",
    "        }\n",
    "        self.pid = 40\n",
    "        self.rewardToken = rewardToken\n",
    "        self.stakingToken = stakingToken\n",
    "        self.operator = operator\n",
    "        \n",
    "        \n",
    "    def stakeFor(self, msgSender, _for, _amount):\n",
    "        for exR in self.extraRewards:\n",
    "            exR.stake(_for, _amount)\n",
    "        self.totalSupply += _amount\n",
    "        self.balances[_for] += _amount\n",
    "        # ConvexBooster's pid-lptoken transfer to this\n",
    "        self.stakingToken.transferFrom(msgSender, self.address, _amount)\n",
    "    \n",
    "    def withdrawAndUnwrap(self, msgSender, _amount, _claim: bool):\n",
    "        for exR in self.extraRewards:\n",
    "            exR.withdraw(msgSender, _amount)\n",
    "        \n",
    "        self.totalSupply -= _amount\n",
    "        self.balances[msgSender] -= _amount\n",
    "        self.operator.withdrawTo(self.address, self.pid, _amount, msgSender)\n",
    "        \n",
    "        if _claim:\n",
    "            self.getReward(msgSender, True)\n",
    "        \n",
    "    def getReward(self, msgSender, _claimExtras: bool):\n",
    "        # reward = earned(msgSender)\n",
    "        reward = 100\n",
    "        if reward:\n",
    "            reward[msgSender] = 0\n",
    "            self.rewardToken.transfer(msgSender, reward)\n",
    "        if _claimExtras:\n",
    "            for exR in self.extraRewards:\n",
    "                exR.getReward(msgSender)\n",
    "        "
   ]
  },
  {
   "cell_type": "code",
   "execution_count": 49,
   "metadata": {},
   "outputs": [],
   "source": [
    "booster = ConvexBooster()\n",
    "\n",
    "baseRewardPool = ConvexBaseRewardPool(cvxMim3Crv, booster, crv)\n",
    "\n",
    "booster.addBaseRewardPool(40, cvxMim3Crv, mim3Crv, baseRewardPool)\n"
   ]
  },
  {
   "cell_type": "code",
   "execution_count": null,
   "metadata": {},
   "outputs": [],
   "source": []
  },
  {
   "cell_type": "code",
   "execution_count": 71,
   "metadata": {},
   "outputs": [],
   "source": [
    "\n",
    "class Trove(object):\n",
    "    \n",
    "    def __init__(self, booster, baseRewardPool):\n",
    "        self.address = 'Trove'\n",
    "        self.userDebt = {\n",
    "            \"0x00\": {\n",
    "                \"coll\": 0,\n",
    "                \"borrow\": 0,\n",
    "            }\n",
    "        }\n",
    "        self.booster = booster\n",
    "        self.baseRewardPool = baseRewardPool\n",
    "        self.cvxAmount = 0\n",
    "        self.crvAmount = 0\n",
    "    \n",
    "    def leverage(self, address, coll, borrowed):\n",
    "        self.userDebt[address] = {'coll': coll, 'borrow': borrowed}\n",
    "        print(f'before stake has {self.baseRewardPool.balances.get(self.address, 0)}')\n",
    "        booster.deposit(self.address, 40, coll, True)\n",
    "        print(f'before stake has {self.baseRewardPool.balances.get(self.address, 0)}')\n",
    "        \n",
    "    \n",
    "    def deleverage(self, address):\n",
    "        if self.userDebt[address]['coll'] > 0:\n",
    "            (_1, _2, _3) = self.getReward(address)\n",
    "            self.userDebt[address] = {'coll': 0, 'borrow': 0}\n",
    "            print(f'{address} deleveraged, clear debt')\n",
    "            print(f'get rewards: {_1, _2, _3}')\n",
    "        else:\n",
    "            print('[Warning] not deleverage')\n",
    "    \n",
    "    def getReward(self, address) -> List[int]:\n",
    "        hasColl = self.userDebt[address]['coll']\n",
    "        unstake_lptoken = hasColl * 0.99\n",
    "        oldCvxAmount = self.cvxAmount\n",
    "        oldCrvAmount = self.crvAmount\n",
    "        cvx_balanceOf_this = 0\n",
    "        crv_balanceOf_this = 0\n",
    "        # distribute reward to user \n",
    "        crvRe = 0\n",
    "        cvxRe = 0\n",
    "        others = 0\n",
    "        return (crvRe, cvxRe, others)"
   ]
  },
  {
   "cell_type": "code",
   "execution_count": 72,
   "metadata": {},
   "outputs": [],
   "source": [
    "# alice bob chris\n",
    "\n",
    "mim3Crv.mint('alice', 1000)\n",
    "mim3Crv.mint('bob', 2000)\n",
    "mim3Crv.mint('chris', 3000)"
   ]
  },
  {
   "cell_type": "code",
   "execution_count": 73,
   "metadata": {},
   "outputs": [],
   "source": [
    "\n",
    "\n",
    "mim3crvTrove = Trove(booster, baseRewardPool)\n"
   ]
  },
  {
   "cell_type": "code",
   "execution_count": 80,
   "metadata": {},
   "outputs": [
    {
     "name": "stdout",
     "output_type": "stream",
     "text": [
      "before stake has 1400\n",
      "before stake has 1500\n"
     ]
    }
   ],
   "source": [
    "mim3crvTrove.leverage('alice', 100, 200)"
   ]
  },
  {
   "cell_type": "code",
   "execution_count": 81,
   "metadata": {},
   "outputs": [
    {
     "data": {
      "text/plain": [
       "(0, 0)"
      ]
     },
     "execution_count": 81,
     "metadata": {},
     "output_type": "execute_result"
    }
   ],
   "source": [
    "cvxMim3Crv.balanceOf('alice'), cvxMim3Crv.balanceOf('Trove')"
   ]
  },
  {
   "cell_type": "code",
   "execution_count": 75,
   "metadata": {},
   "outputs": [
    {
     "name": "stdout",
     "output_type": "stream",
     "text": [
      "before stake has 1000\n",
      "before stake has 1200\n"
     ]
    }
   ],
   "source": [
    "mim3crvTrove.leverage('bob', 200, 300)"
   ]
  },
  {
   "cell_type": "code",
   "execution_count": 76,
   "metadata": {},
   "outputs": [
    {
     "name": "stdout",
     "output_type": "stream",
     "text": [
      "alice deleveraged, clear debt\n",
      "get rewards: (0, 0, 0)\n"
     ]
    }
   ],
   "source": [
    "mim3crvTrove.deleverage('alice')"
   ]
  },
  {
   "cell_type": "code",
   "execution_count": 77,
   "metadata": {},
   "outputs": [
    {
     "name": "stdout",
     "output_type": "stream",
     "text": [
      "[Warning] not deleverage\n"
     ]
    }
   ],
   "source": [
    "mim3crvTrove.deleverage('alice')"
   ]
  },
  {
   "cell_type": "code",
   "execution_count": 82,
   "metadata": {},
   "outputs": [
    {
     "data": {
      "text/plain": [
       "(0, 0)"
      ]
     },
     "execution_count": 82,
     "metadata": {},
     "output_type": "execute_result"
    }
   ],
   "source": [
    "cvxMim3Crv.balanceOf('alice'), cvxMim3Crv.balanceOf('Trove')\n"
   ]
  },
  {
   "cell_type": "code",
   "execution_count": null,
   "metadata": {},
   "outputs": [],
   "source": []
  }
 ],
 "metadata": {
  "kernelspec": {
   "display_name": "Python 3.9.13 ('base')",
   "language": "python",
   "name": "python3"
  },
  "language_info": {
   "codemirror_mode": {
    "name": "ipython",
    "version": 3
   },
   "file_extension": ".py",
   "mimetype": "text/x-python",
   "name": "python",
   "nbconvert_exporter": "python",
   "pygments_lexer": "ipython3",
   "version": "3.9.13"
  },
  "orig_nbformat": 4,
  "vscode": {
   "interpreter": {
    "hash": "c6e4e9f98eb68ad3b7c296f83d20e6de614cb42e90992a65aa266555a3137d0d"
   }
  }
 },
 "nbformat": 4,
 "nbformat_minor": 2
}
